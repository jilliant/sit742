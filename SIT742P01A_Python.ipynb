{
  "nbformat": 4,
  "nbformat_minor": 0,
  "metadata": {
    "colab": {
      "name": "Copy of SIT742P01A-Python.ipynb",
      "version": "0.3.2",
      "provenance": [],
      "include_colab_link": true
    },
    "kernelspec": {
      "display_name": "Python 3.5 with Spark",
      "name": "python3",
      "language": "python3"
    }
  },
  "cells": [
    {
      "cell_type": "markdown",
      "metadata": {
        "id": "view-in-github",
        "colab_type": "text"
      },
      "source": [
        "<a href=\"https://colab.research.google.com/github/jilliant/sit742/blob/master/SIT742P01A_Python.ipynb\" target=\"_parent\"><img src=\"https://colab.research.google.com/assets/colab-badge.svg\" alt=\"Open In Colab\"/></a>"
      ]
    },
    {
      "metadata": {
        "id": "u3b9i5waNAuJ",
        "colab_type": "text"
      },
      "cell_type": "markdown",
      "source": [
        "# SIT742: Modern Data Science \n",
        "**(Week 01: Programming Python)**\n",
        "\n",
        "---\n",
        "- Materials in this module include resources collected from various open-source online repositories.\n",
        "- You are free to use, change and distribute this package.\n",
        "- If you found any issue/bug for this document, please submit an issue at [tulip-lab/sit742](https://github.com/tulip-lab/sit742/issues)\n",
        "\n",
        "\n",
        "\n",
        "Prepared by **SIT742 Teaching Team**\n",
        "\n",
        "---\n",
        "\n",
        "\n",
        "# Session 1A - IPython notebook and basic data types\n",
        "\n",
        "\n",
        "In this session, \n",
        "you will learn how to run *Python* code under  **IPython notebook**. You have two options for the environment:\n",
        "\n",
        "1. Install the [Anaconda](https://www.anaconda.com/distribution/), and run it locally; **OR**\n",
        "1. Use one cloud data science platform such as:\n",
        "    - [Google Colab](https://colab.research.google.com): SIT742 lab session will use Google Colab. \n",
        "    - [IBM Cloud](https://www.ibm.com/cloud)\n",
        "    - [DataBricks](https://community.cloud.databricks.com)\n",
        "\n",
        "\n",
        "\n",
        "In IPython notebook, you will be able to execute and modify your *Python* code more efficiently. \n",
        "\n",
        "- **If you are using Google Colab for SIT742 lab session practicals, you can ignore this Part 1 of this Session 1A, and start with Part 2.**\n",
        "\n",
        "\n",
        "\n",
        "In addition, you will  be given an introduction on  *Python*'s basic data types, \n",
        "getting familiar with  **string**,   **number**, data conversion, data comparison and \n",
        "data input/output. \n",
        "\n",
        "Hopefully, by using **Python** and the powerful **IPython Notebook** environment, \n",
        "you will find writing programs both fun and easy. \n"
      ]
    },
    {
      "metadata": {
        "id": "v9cv3r3uNAuO",
        "colab_type": "text"
      },
      "cell_type": "markdown",
      "source": [
        "## Content\n",
        "\n",
        "### Part 1 Create your own IPython notebook\n",
        "\n",
        "1.1 [Start a notebook server](#cell_start)\n",
        "\n",
        "1.2 [A tour of IPython notebook](#cell_tour)\n",
        "\n",
        "1.3 [IPython notebook infterface](#cell_interface)\n",
        "\n",
        "1.4 [Open and close notebooks](#cell_close)\n",
        "\n",
        "### Part 2 Basic data types\n",
        "\n",
        "2.1 [String](#cell_string)\n",
        "\n",
        "2.2 [Number](#cell_number)\n",
        "\n",
        "2.3 [Data conversion and comparison](#cell_conversion)\n",
        "\n",
        "2.4 [Input and output](#cell_input)\n"
      ]
    },
    {
      "metadata": {
        "id": "D83pluWlNAuR",
        "colab_type": "text"
      },
      "cell_type": "markdown",
      "source": [
        "# Part 1. Create your own IPython notebook\n",
        "\n",
        "- **If you are using Google Colab for SIT742 lab session practicals, you can ignore this Part 1, and start with Part 2.**\n",
        "\n",
        "\n",
        "This notebook will show you how to start an IPython notebook session. It guides you through the process of creating your own notebook. It provides you details on the notebook interface and show you how to nevigate with a notebook and manipulate its components. "
      ]
    },
    {
      "metadata": {
        "id": "tagiZ0aYNG7b",
        "colab_type": "text"
      },
      "cell_type": "markdown",
      "source": [
        "test "
      ]
    },
    {
      "metadata": {
        "id": "hYP_ZZZONAuW",
        "colab_type": "text"
      },
      "cell_type": "markdown",
      "source": [
        "     \n",
        "## 1. 1 Start  a  notebook server\n",
        "\n",
        "As described in Part 1, you start the IPython notebnook server by keying in the command in a terminal window/command line window.\n",
        "\n",
        "However,  before you do this, make sure you have created a folder **p01** under **H:/sit742**,   download the file  **SIT742P01A-Python.ipynb** notebook, and saved it under **H:/sit742/p01**.\n",
        "\n",
        "If you are using [Google Colab](https://colab.research.google.com), you can upload this notebook to Google Colab and run it from there. If any difficulty, please ask your tutor, or check the CloudDeakin discussions.\n",
        "\n",
        "\n",
        "After you complete this, you can now  switch  working directory to **H:/sit742**, and start the IPython notebook server by the following commands:"
      ]
    },
    {
      "metadata": {
        "id": "lZ_7w71zNAuZ",
        "colab_type": "raw"
      },
      "cell_type": "markdown",
      "source": [
        "ipython notebook %don't run this in notebook, run it on command line to activate the server"
      ]
    },
    {
      "metadata": {
        "id": "ykVV4O-JNAub",
        "colab_type": "text"
      },
      "cell_type": "markdown",
      "source": [
        "You can see the message in the terminal windows as follows:\n",
        "\n",
        "\n",
        "<img src=\"https://raw.githubusercontent.com/tuliplab/mds/master/Jupyter/image/start-workspace.jpg\">\n",
        "\n",
        "This will open a new browser window(or a new tab in your browser window). In the browser, there is an **dashboard**  page which shows you all the folders and files under **sit742** folder\n",
        "\n",
        "\n",
        "<img src=\"https://raw.githubusercontent.com/tuliplab/mds/master/Jupyter/image/start-index.jpg\">\n",
        " "
      ]
    },
    {
      "metadata": {
        "id": "0BJlQ_BMNAue",
        "colab_type": "text"
      },
      "cell_type": "markdown",
      "source": [
        "<a id = \"cell_tour\"></a>"
      ]
    },
    {
      "metadata": {
        "id": "ZnaZWrp5NAug",
        "colab_type": "text"
      },
      "cell_type": "markdown",
      "source": [
        " \n",
        " ## 1.2  A tour of iPython notebook \n",
        " \n",
        " ###  Create a new ipython notebook\n",
        " \n",
        " \n",
        " To create a new notebook, go to the menu bar and select **File -> New Notebook -> Python 3**\n",
        "\n",
        "By default, the new notebook is named **Untitled**. To give your notebook a meaningful name, click on the notebook name and rename it. We would like to call our new notebook **hello.ipynb**. Therefore, key in the name **hello**. \n",
        "\n",
        "<img src=\"https://raw.githubusercontent.com/tuliplab/mds/master/Jupyter/image/emptyNotebook.jpg\">\n",
        "\n",
        "\n",
        "\n",
        "###  Run script in code cells\n",
        "\n",
        "After a new notebook is created, there is an empty box in the notebook, called a **cell**. If you double click on the cell, you enter the **edit** mode of the notebook. Now we can  enter the following code in the cell"
      ]
    },
    {
      "metadata": {
        "id": "auB37WsDNAui",
        "colab_type": "raw"
      },
      "cell_type": "markdown",
      "source": [
        "text = \"Hello World\"\n",
        "print(text)"
      ]
    },
    {
      "metadata": {
        "id": "3zUYOgHhNAuk",
        "colab_type": "text"
      },
      "cell_type": "markdown",
      "source": [
        "After this,  press **CTRL + ENTER**, and execute the cell. The result will be shown after the cell. \n",
        "\n",
        "\n",
        "\n",
        "<img src=\"https://raw.githubusercontent.com/tuliplab/mds/master/Jupyter/image/hello-world.jpg\">\n",
        "\n",
        "\n",
        "\n",
        "\n",
        "After a cell is executed ,  the notebook is switched to  the **Commmand** mode. In this mode,  you can manipulte the notebook and its commponent. Alternatively, you can  use **ESC** key to switch from **Edit** mode to **Command** mode without executing code. \n",
        "\n",
        "To modify the code you  entered in the cell, **double click** the cell again and modify its content.  For example, try to change the first line of previouse cell into the following code:"
      ]
    },
    {
      "metadata": {
        "id": "6jXNvxUcNAul",
        "colab_type": "raw"
      },
      "cell_type": "markdown",
      "source": [
        "text = \"Good morning World!\""
      ]
    },
    {
      "metadata": {
        "id": "h9MrhDEgNAum",
        "colab_type": "text"
      },
      "cell_type": "markdown",
      "source": [
        "Afterwards,  press **CTRL + ENTER**, and the new output is displayed. \n",
        "\n",
        "As you can see, you are switching bewteen two  modes,  **Command** and  **Edit**,  when  editing a notebook. We will in  later section look into these two operation modes of closely. Now practise  switching between the two modes until you are comfortable with them. "
      ]
    },
    {
      "metadata": {
        "id": "USx1G6jdNAun",
        "colab_type": "text"
      },
      "cell_type": "markdown",
      "source": [
        "###  Add  new  cells\n",
        "\n",
        "To add a new cell to a notebook, you have to ensure the notebook is in **Command** mode. If not, refer to previous section to switch to **Command** mode. \n",
        "\n",
        "\n",
        "To add cell below the currrent cell, go to menubar and click **Insert-> Insert Cell Below**. Alternatively, you can use shortcut i.e.  pressing **b** (or **a** to create a cell above).\n",
        "\n",
        "\n",
        "<img src=\"https://raw.githubusercontent.com/tuliplab/mds/master/Jupyter/image/new-cell.jpg\">\n",
        "\n",
        "###  Add markdown cells\n",
        "\n",
        "By default, a code cell is created when adding a new cell. However, IPython notebook also use a **Markdown** cell for  enter normal text. We use markdown cell to display the text in specific format and to provide structure for a notebook.  \n",
        "\n",
        "Try to copy the text in the cell below and paste it into your new  notebook. Then from toolbar(**Cell->Cell Type**), change  cell type from **Code** to **Markdown**. \n",
        "\n",
        "Please note in the following cell,  there is a space between the leading **-, #, 0** and the text that follows. "
      ]
    },
    {
      "metadata": {
        "id": "Qb256CZXNAup",
        "colab_type": "raw"
      },
      "cell_type": "markdown",
      "source": [
        "## Heading 2\n",
        "Normal text here!\n",
        "\n",
        "### Heading 3\n",
        "ordered list here\n",
        "\n",
        "0. Fruits\n",
        "  0. Banana\n",
        "  0. Grapes\n",
        "0. Veggies\n",
        "  0. Tomato\n",
        "  0. Broccoli\n",
        " \n",
        "Unordered list here\n",
        "- Fruits\n",
        "     - Banana\n",
        "     - Grapes\n",
        "- Veggies\n",
        "     - Tomato\n",
        "     - Broccoli"
      ]
    },
    {
      "metadata": {
        "collapsed": true,
        "id": "M-HINCiHNAuq",
        "colab_type": "text"
      },
      "cell_type": "markdown",
      "source": [
        "Now execute the cell by press **CTRL+ ENTER**. You notebook should look like this:\n",
        "    \n",
        "<img src=\"https://raw.githubusercontent.com/tuliplab/mds/master/Jupyter/image/new-markdown.jpg\">\n"
      ]
    },
    {
      "metadata": {
        "id": "55n7DUHJNAur",
        "colab_type": "text"
      },
      "cell_type": "markdown",
      "source": [
        "Here is what the formated Markdown cell looks like:"
      ]
    },
    {
      "metadata": {
        "id": "Vx_q57VJNAus",
        "colab_type": "text"
      },
      "cell_type": "markdown",
      "source": [
        "### Exercise:\n",
        "Click this cell, and practise writing markdown language here...."
      ]
    },
    {
      "metadata": {
        "id": "xeJmG-DwNAut",
        "colab_type": "text"
      },
      "cell_type": "markdown",
      "source": [
        "<a id = \"cell_interface\"></a>"
      ]
    },
    {
      "metadata": {
        "id": "sqKm1Od6NAuu",
        "colab_type": "text"
      },
      "cell_type": "markdown",
      "source": [
        " \n",
        "### 1.3  IPython notebook interface\n",
        "\n",
        "Now you have created your first notebook, let us have a close look at the user interface of IPython notebook.\n",
        "\n",
        "\n",
        "\n",
        "### Notebook component\n",
        "When you create a new notebook document, you will be presented with the notebook name, a menu bar, a toolbar and an empty code cell.\n",
        "\n",
        "We can see the following components in a notebook:\n",
        "\n",
        "- **Title bar** is at the top of the page and  contains the name of the notebook. Clicking on the notebook name brings up a dialog which allows you to rename it.  Please renaming your notebook name from “Untitled0” to “hello”. This change the file name from **Untitled0.ipynb**  to  **hello.ipynb**.\n",
        "\n",
        "- **Menu bar** presents different options that can be used to manipulate the way the notebook functions.\n",
        "\n",
        "- **Toolbar** gives a quick way of performing the most-used operations within the notebook.\n",
        "\n",
        "- An empty computational cell is  show in a new notebook where you can key in your code.\n",
        "\n",
        "The notebook has two  modes of operatiopn:\n",
        "\n",
        "- **Edit**: In this mode, a single cell comes into focus and you can enter text or execute code.  You activate the **Edit mode** by **clicking on a cell** or **selecting a cell and then pressing Enter key**.\n",
        "\n",
        "- **Command**: In this mode, you can perform tasks that is related to the whole notebook structure. For example, you can move, copy, cut and paste cells. A series of keyboard shortcuts are also available to enable you to performa  these tasks more effiencient. One easiest way of activating the command mode by  pressing the **Esc** key to exit editing mode. \n",
        "\n",
        "\n",
        "\n",
        "\n",
        "\n",
        "### Get help and interrupting\n",
        "\n",
        "\n",
        "To get help on the use of different cammands, shortcuts, you can go to the **Help** menu, which provides links to relevant documentation.\n",
        "\n",
        "It is also easy to get help on any objects(including functions and methods). For example, to access help on the sum() function, enter the followsing line in a cell:"
      ]
    },
    {
      "metadata": {
        "id": "l5c6UPdoNAuu",
        "colab_type": "raw"
      },
      "cell_type": "markdown",
      "source": [
        "sum?"
      ]
    },
    {
      "metadata": {
        "id": "T3ai4AksNAuv",
        "colab_type": "text"
      },
      "cell_type": "markdown",
      "source": [
        "The other improtant thing to know is how to interrupt a compuation. This can be done through the menu **Kernel->Interrupt** or **Kernel->Restart**, depending on what works on the situation. We will have chance to try this in later session. "
      ]
    },
    {
      "metadata": {
        "id": "WKuOwD2HNAuv",
        "colab_type": "text"
      },
      "cell_type": "markdown",
      "source": [
        "\n",
        "### Notebook cell types\n",
        "\n",
        "\n",
        "There are basically three types of cells in a IPython notebook: Code Cells, Markdown Cells, Raw Cells.\n",
        "\n",
        "\n",
        "**Code cells** : Code cell can be used to enter code and will be executed by Python interpreter. Although we will not use other language in this unit, it is good to know that Jupyter Notebooks  also support JavaScript,  HTML, and Bash commands.\n",
        "\n",
        "*** Markdown cells***: You have created markdown cell in the previouse section. Markdown Cells are the easiest way to write and format text. It is also give structure to the notebook. Markdown language is used in this type of cell. Follow this link https://daringfireball.net/projects/markdown/basics  for the basics of the syntax.  \n",
        "\n",
        "This is a  Markdown Cells example notebook sourced from : https://ipython.org/ipython-doc/3/notebook/notebook.html\n",
        "This markdown cheat sheet can also be good reference to the main markdowns you might need to use in our pracs http://nestacms.com/docs/creating-content/markdown-cheat-sheet\n",
        "\n",
        "\n",
        "**Raw cells** : Raw cells, unlike all other Jupyter Notebook cells, have no input-output distinction. This means that raw Cells cannot be rendered into anything other than what they already are. They are mainly used to create examples.\n",
        "\n",
        "\n",
        "As you have seen, you can use the toolbar to choose between different cell types. In addition, shortcut **M** and **Y** can be used to quickly change a cell to Code cell or Markdown cell under Command mode. \n",
        "\n",
        "\n",
        "### Operation modes of IPytho notebook\n",
        "\n",
        "**Edit mode**\n",
        "\n",
        "\n",
        "\n",
        "The Edit mode is used to enter text in cells and to execute code. As you have seen, after typing some code in the notebook and pressing **CTRL+Enter**, the notebook executes the cell and diplays  output. The other two shortcuts used to run  code in a cell are **Shift +Enter** and **Alt + Enter**. \n",
        "\n",
        "These three ways to run the the code in a cells are summarized as follows:\n",
        "\n",
        "\n",
        "- Pressing Shift + Enter: This runs the cell and select the next cell(A new cell is created if at the end of the notebook). This is the most usual way to execute a cell.\n",
        "\n",
        "- Pressing Ctrl + Enter: This runs the cell and keep the same cell selected. \n",
        "\n",
        "- Pressing Alt + Enter: This runs the cell and insert a new cell below it. \n",
        "\n",
        "\n",
        "**Command mode**\n",
        "\n",
        "In Command mode, you can edit the notebook as a whole, but not type into individual cells.\n",
        "\n",
        "You can use keyboard shortcut in this mode to perform the notebook and cell actions effeciently. For example, if you are in command mode and press **c**, you will copy the current cell. \n",
        "\n",
        "\n",
        "\n",
        " There are a large amount of shortcuts avaialbe in the command mode. However, you do not have to remember all of them, since most actions in the command mode are available in the menu. \n",
        " \n",
        " Here is a list of the most useful shortcuts. They are arrganged by the \n",
        "  order we recommend you learn so that you can edit the cells effienctly.\n",
        "\n",
        "\n",
        "1. Basic navigation: \n",
        "\n",
        "   - Enter: switch to Edit mode\n",
        "   \n",
        "   - Esc: switch to Command mode\n",
        "   \n",
        "   - Shift+enter: Eexecute a cell\n",
        "   \n",
        "   - Up, down: Move to the cell above or below\n",
        "\n",
        "2. Cell types: \n",
        "  - y: switch to code cell)\n",
        "  - m: switch to markdown cell) \n",
        "\n",
        "3. Cell creation: \n",
        "    - a: insert new sell above\n",
        "    - b: insert new cell  below\n",
        "\n",
        "4. Cell deleting:\n",
        "    - press D twice.\n",
        "\n",
        "Note that one of the most common (and frustrating) mistakes when using the\n",
        "notebook is to type something in the wrong mode. Remember to use **Esc**\n",
        "to switch to the Command mode and **Enter** to switch to the Edit mode.\n",
        "Also, remember that **clicking** on a cell automatically places it in the Edit\n",
        "mode, so it will be necessary to press **Esc** to go to the Command mode.\n",
        "\n",
        "### Exercise\n",
        "Please  go ahead and try  these shortcuts.  For example,   try to insert new cell,  modify and delete  an existing cell. You can also switch  cells between code type and markdown type, and practics different kinds of formatting  in a markdown cell. \n",
        " \n",
        "For a complete list of shortcut in **Command** mode, go to menu bar **Help->Keyboardshorcut**. Feel free to explore the other shortcuts. \n",
        " \n",
        "  "
      ]
    },
    {
      "metadata": {
        "id": "INj2kW0sNAuw",
        "colab_type": "text"
      },
      "cell_type": "markdown",
      "source": [
        "<a id = \"cell_close\"></a>"
      ]
    },
    {
      "metadata": {
        "id": "8ojtlao4NAuw",
        "colab_type": "text"
      },
      "cell_type": "markdown",
      "source": [
        " \n",
        " ## 1.4 open and close notebooks\n",
        " \n",
        " You can open multiple notebooks in a browser windows. Simply go to menubar and choose **File->open...**, and select one **.ipynb** file. The second notebook will be opened in a seperated tab. \n",
        " \n",
        "Now make sure you still have your **hello.ipynb** open. Also please  download **ControlAdvData.ipynb** from cloudDeakin, and save under **H:/sit742/prac01**. Now go to the manu bar, click on **File->open ...**, locate the file **ControlAdvData.ipynb**, and open this file. \n",
        " \n",
        " When you finish your work, you will need to close your notebooks and shutdown the IPython notebook server. Instead of simply close all the tabs in the browser, you need to shutdown each notebook first. To do this, swich to   the **Home** tab(**Dashboard page**) and  **Running** section(see below).  Click on **Shutdown** button to close each notebook. In case  **Dashboard** page is not open,  click on the **Jupyter** icon to reopen it. \n",
        " \n",
        "\n",
        " <img src=\"https://raw.githubusercontent.com/tuliplab/mds/master/Jupyter/image/close-index.jpg\">\n",
        " \n",
        " After each notebook is shutdown, it is time to showdown the IPython notebook server. To do this, go to the terminal window and press **CTRL + C**, and then enter **Y**. After the notebook server is shut down,  the terminal window is ready for you to enter any new command. \n",
        " \n",
        "\n",
        " <img src=\"https://raw.githubusercontent.com/tuliplab/mds/master/Jupyter/image/close-terminal.jpg\">\n",
        " \n",
        " "
      ]
    },
    {
      "metadata": {
        "id": "TGh8Ww5oNAux",
        "colab_type": "text"
      },
      "cell_type": "markdown",
      "source": [
        "\n",
        "# Part 2  Basic Data Types\n"
      ]
    },
    {
      "metadata": {
        "id": "UuvuCt31NAux",
        "colab_type": "text"
      },
      "cell_type": "markdown",
      "source": [
        "\n",
        "\n",
        "In this part,  you will get better understanding with Python's basic data type. We will \n",
        "look at **string** and **number** data type in this section. Also covered are:\n",
        "\n",
        "- Data conversion\n",
        "- Data  comparison\n",
        "- Receive  input from users and display results effectively \n",
        "\n",
        "You will be guided through  completing a simple program which receives input from a user,\n",
        " process the information, and display results with specific format. "
      ]
    },
    {
      "metadata": {
        "id": "9tR5bvqWNAuy",
        "colab_type": "text"
      },
      "cell_type": "markdown",
      "source": [
        "<a id = \"cell_string\"></a>"
      ]
    },
    {
      "metadata": {
        "id": "-vCXRRKfNAuy",
        "colab_type": "text"
      },
      "cell_type": "markdown",
      "source": [
        "## 2.1 String\n",
        "\n",
        "A string is a *sequence of characters*. We are using strings in almost every Python\n",
        "programs. As we can seen in the **”Hello, World!”** example, strings can be specified\n",
        "using single quotes **'**. The **print()** function can be used to display a string."
      ]
    },
    {
      "metadata": {
        "id": "bVIA-yrsNAuz",
        "colab_type": "code",
        "colab": {}
      },
      "cell_type": "code",
      "source": [
        "print('Hello, World!')"
      ],
      "execution_count": 0,
      "outputs": []
    },
    {
      "metadata": {
        "id": "2g2KShzVNAu4",
        "colab_type": "text"
      },
      "cell_type": "markdown",
      "source": [
        "We can also use a variable to store the string value, and use the variable in the\n",
        "**print()** function."
      ]
    },
    {
      "metadata": {
        "id": "nLpHyI_sNAu5",
        "colab_type": "code",
        "colab": {}
      },
      "cell_type": "code",
      "source": [
        "# Assign a string to a variable \n",
        "text = 'Hello, World!'\n",
        "print(text)"
      ],
      "execution_count": 0,
      "outputs": []
    },
    {
      "metadata": {
        "id": "F6GvJiH7NAu8",
        "colab_type": "text"
      },
      "cell_type": "markdown",
      "source": [
        "A *variable* is basically a name that represents (or refers to) some value. We use **=**\n",
        "to assign a value to a variable before we use it. Variable names are given by a programer\n",
        "in a way that the program is easy to understanding. Variable names are *case sensitive*.\n",
        "It can consist of letters, digits and underscores. However, it can not begin with a digit.\n",
        "For example, **plan9** and **plan_9** are valid names, where **9plan** is not."
      ]
    },
    {
      "metadata": {
        "id": "kE_6Wq3xNAu9",
        "colab_type": "code",
        "colab": {}
      },
      "cell_type": "code",
      "source": [
        "text = 'Hello, World!'"
      ],
      "execution_count": 0,
      "outputs": []
    },
    {
      "metadata": {
        "id": "ws5iliOMNAvB",
        "colab_type": "code",
        "colab": {}
      },
      "cell_type": "code",
      "source": [
        "# with print() function, content is displayed without quotation mark\n",
        "print(text)"
      ],
      "execution_count": 0,
      "outputs": []
    },
    {
      "metadata": {
        "id": "k6PGRCbcNAvD",
        "colab_type": "text"
      },
      "cell_type": "markdown",
      "source": [
        "With variables, we can also display its value without **print()** function. Note that\n",
        "you can not display a variable without **print()** function in Python script(i.e. in a **.py** file). This method only works under interactive mode (i.e. in the notebook).  "
      ]
    },
    {
      "metadata": {
        "id": "EF44kTmrNAvF",
        "colab_type": "code",
        "colab": {}
      },
      "cell_type": "code",
      "source": [
        "# without print() function, quotation mark is displayed together with content\n",
        "text "
      ],
      "execution_count": 0,
      "outputs": []
    },
    {
      "metadata": {
        "id": "vey2CwNXNAvH",
        "colab_type": "text"
      },
      "cell_type": "markdown",
      "source": [
        "Back to representation of string, there will be issues if you need to include a quotation\n",
        "mark in the text."
      ]
    },
    {
      "metadata": {
        "id": "BRZiGPJeNAvH",
        "colab_type": "code",
        "colab": {}
      },
      "cell_type": "code",
      "source": [
        "text = ’What’ s your name ’"
      ],
      "execution_count": 0,
      "outputs": []
    },
    {
      "metadata": {
        "id": "slMPBDU2NAvI",
        "colab_type": "text"
      },
      "cell_type": "markdown",
      "source": [
        "Since strings in double quotes **\"** work exactly the same way as string in single quotes.\n",
        "By mixing the two types, it is easy to include quaotation mark itself in the text."
      ]
    },
    {
      "metadata": {
        "id": "4cgo0IsCNAvJ",
        "colab_type": "code",
        "colab": {}
      },
      "cell_type": "code",
      "source": [
        "text = \"What' s your name?\"\n",
        "print(text)"
      ],
      "execution_count": 0,
      "outputs": []
    },
    {
      "metadata": {
        "id": "y7NUhfjMNAvL",
        "colab_type": "text"
      },
      "cell_type": "markdown",
      "source": [
        "Alternertively, you can use:"
      ]
    },
    {
      "metadata": {
        "id": "K8GjizvzNAvL",
        "colab_type": "code",
        "colab": {}
      },
      "cell_type": "code",
      "source": [
        "text = '\"What is the problem?\", he asked.'\n",
        "print(text)"
      ],
      "execution_count": 0,
      "outputs": []
    },
    {
      "metadata": {
        "id": "ZdOnsCTLNAvN",
        "colab_type": "text"
      },
      "cell_type": "markdown",
      "source": [
        "You can specify multi-line strings using triple quotes  (**\"\"\"** or **'''**). In this way, single\n",
        "quotes and double quotes can be used freely in the text.\n",
        "Here is one example:"
      ]
    },
    {
      "metadata": {
        "id": "m_hYYwCnNAvN",
        "colab_type": "code",
        "colab": {}
      },
      "cell_type": "code",
      "source": [
        "multiline = '''This is a test for multiline. This is the first line. \n",
        "This is the second line. \n",
        "I asked, \"What's your name?\"'''\n",
        "print(multiline)"
      ],
      "execution_count": 0,
      "outputs": []
    },
    {
      "metadata": {
        "id": "HfBjWaxjNAvP",
        "colab_type": "text"
      },
      "cell_type": "markdown",
      "source": [
        "Notice the difference when the variable is displayed without **print()** function in this case."
      ]
    },
    {
      "metadata": {
        "id": "tTyvAoNzNAvP",
        "colab_type": "code",
        "colab": {}
      },
      "cell_type": "code",
      "source": [
        "multiline = '''This is a test for multiline. This is the first line. \n",
        "This is the second line. \n",
        "I asked, \"What's your name?\"'''\n",
        "multiline"
      ],
      "execution_count": 0,
      "outputs": []
    },
    {
      "metadata": {
        "id": "WMS59IjbNAvR",
        "colab_type": "text"
      },
      "cell_type": "markdown",
      "source": [
        "Another way of include the special characters, such as single quotes is with help of\n",
        "escape sequences **\\\\**. For example, you can specify the single quote using **\\\\' ** as follows."
      ]
    },
    {
      "metadata": {
        "id": "KWm12hCiNAvS",
        "colab_type": "code",
        "colab": {}
      },
      "cell_type": "code",
      "source": [
        "string = 'What\\'s your name?'\n",
        "print(string)"
      ],
      "execution_count": 0,
      "outputs": []
    },
    {
      "metadata": {
        "id": "2gjLmWhWNAvU",
        "colab_type": "text"
      },
      "cell_type": "markdown",
      "source": [
        "There are many more other escape sequences (See Section 2.4.1 in [Python3.0 official document](https://docs.python.org/3.1/reference/lexical_analysis.html)). But I am going to mention the most useful two examples here. \n",
        "\n",
        "First, use escape sequences to indicate the backslash itself e.g. **\\\\\\\\**"
      ]
    },
    {
      "metadata": {
        "id": "QpOuzoe_NAvU",
        "colab_type": "code",
        "colab": {}
      },
      "cell_type": "code",
      "source": [
        "path = 'c:\\\\windows\\\\temp'\n",
        "print(path)"
      ],
      "execution_count": 0,
      "outputs": []
    },
    {
      "metadata": {
        "id": "zJ0cdb0FNAvW",
        "colab_type": "text"
      },
      "cell_type": "markdown",
      "source": [
        "Second,  used escape sequences to specify a two-line string. Apart from using a triple-quoted\n",
        "string as shown previously, you can use **\\n** to indicate the start of a new line."
      ]
    },
    {
      "metadata": {
        "id": "h06lrsiINAvW",
        "colab_type": "code",
        "colab": {}
      },
      "cell_type": "code",
      "source": [
        "multiline = 'This is a test for multiline. This is the first line.\\nThis is the second line.'\n",
        "print(multiline)"
      ],
      "execution_count": 0,
      "outputs": []
    },
    {
      "metadata": {
        "id": "Ob7z3rUzNAvY",
        "colab_type": "text"
      },
      "cell_type": "markdown",
      "source": [
        "To manipulate strings, the following two operators are most useful: \n",
        "* **+** is use to concatenate\n",
        "two strings or string variables; \n",
        "* ***** is used for concatenating several copies of the same\n",
        "string."
      ]
    },
    {
      "metadata": {
        "id": "VqlPMKhNNAvY",
        "colab_type": "code",
        "colab": {}
      },
      "cell_type": "code",
      "source": [
        "print('Hello, ' + 'World' * 3)"
      ],
      "execution_count": 0,
      "outputs": []
    },
    {
      "metadata": {
        "id": "at8e-oPYNAvZ",
        "colab_type": "text"
      },
      "cell_type": "markdown",
      "source": [
        "Below is another example of string concatenation based on  variables that store strings."
      ]
    },
    {
      "metadata": {
        "id": "1O714nA4NAva",
        "colab_type": "code",
        "colab": {}
      },
      "cell_type": "code",
      "source": [
        "name = 'World'\n",
        "greeting = 'Hello'\n",
        "print(greeting + ', ' + name + '!')"
      ],
      "execution_count": 0,
      "outputs": []
    },
    {
      "metadata": {
        "id": "7gN2Kc4eNAvb",
        "colab_type": "text"
      },
      "cell_type": "markdown",
      "source": [
        "Using variables, change part of the string text is very easy. "
      ]
    },
    {
      "metadata": {
        "id": "dk7qOv8KNAvb",
        "colab_type": "code",
        "colab": {}
      },
      "cell_type": "code",
      "source": [
        "name"
      ],
      "execution_count": 0,
      "outputs": []
    },
    {
      "metadata": {
        "id": "1UVg2H9lNAvd",
        "colab_type": "code",
        "colab": {}
      },
      "cell_type": "code",
      "source": [
        "greeting"
      ],
      "execution_count": 0,
      "outputs": []
    },
    {
      "metadata": {
        "id": "kqFZx000NAvf",
        "colab_type": "code",
        "colab": {}
      },
      "cell_type": "code",
      "source": [
        "# Change part of the text is easy\n",
        "greeting = 'Good morning' \n",
        "print(greeting + ', ' + name + '!')"
      ],
      "execution_count": 0,
      "outputs": []
    },
    {
      "metadata": {
        "id": "88L0pF99NAvh",
        "colab_type": "text"
      },
      "cell_type": "markdown",
      "source": [
        "<a id = \"cell_number\"></a>"
      ]
    },
    {
      "metadata": {
        "id": "LhiTxDyWNAvh",
        "colab_type": "text"
      },
      "cell_type": "markdown",
      "source": [
        " ## 2.2 Number"
      ]
    },
    {
      "metadata": {
        "id": "i1AEEuuuNAvh",
        "colab_type": "text"
      },
      "cell_type": "markdown",
      "source": [
        "There are two types of numbers that are used most frequently: integers and floats. As we\n",
        "expect, the standard mathematic operation can be applied to these two types. Please\n",
        "try the following expressions. Note that **\\*\\*** is exponent operator, which indicates\n",
        "exponentation exponential(power) caluclation."
      ]
    },
    {
      "metadata": {
        "id": "FMO93nihNAvi",
        "colab_type": "code",
        "colab": {}
      },
      "cell_type": "code",
      "source": [
        "2 + 3"
      ],
      "execution_count": 0,
      "outputs": []
    },
    {
      "metadata": {
        "id": "hwylHl23NAvj",
        "colab_type": "code",
        "colab": {}
      },
      "cell_type": "code",
      "source": [
        "3 * 5"
      ],
      "execution_count": 0,
      "outputs": []
    },
    {
      "metadata": {
        "id": "ZyphAABoNAvk",
        "colab_type": "code",
        "colab": {}
      },
      "cell_type": "code",
      "source": [
        "#3 to the power of 4\n",
        "3 ** 4 "
      ],
      "execution_count": 0,
      "outputs": []
    },
    {
      "metadata": {
        "id": "emJX9OehNAvl",
        "colab_type": "text"
      },
      "cell_type": "markdown",
      "source": [
        "Among the number operations, we need to look at division closely. In Python 3.0, classic division is performed using  **/**. "
      ]
    },
    {
      "metadata": {
        "id": "5UtR4XJdNAvl",
        "colab_type": "code",
        "colab": {}
      },
      "cell_type": "code",
      "source": [
        "15 / 5"
      ],
      "execution_count": 0,
      "outputs": []
    },
    {
      "metadata": {
        "id": "5vs-McmTNAvm",
        "colab_type": "code",
        "colab": {}
      },
      "cell_type": "code",
      "source": [
        "14 / 5"
      ],
      "execution_count": 0,
      "outputs": []
    },
    {
      "metadata": {
        "id": "NVXOAUMfNAvn",
        "colab_type": "text"
      },
      "cell_type": "markdown",
      "source": [
        "*//* is used to perform floor division. It truncates the fraction and rounds it to the next smallest whole number toward the left on the number line."
      ]
    },
    {
      "metadata": {
        "id": "c0r7wiTiNAvn",
        "colab_type": "code",
        "colab": {}
      },
      "cell_type": "code",
      "source": [
        "14 // 5"
      ],
      "execution_count": 0,
      "outputs": []
    },
    {
      "metadata": {
        "id": "wHeIxhwMNAvp",
        "colab_type": "code",
        "colab": {}
      },
      "cell_type": "code",
      "source": [
        "# Negatives move left on number line. The result is -3 instead of  -2\n",
        "-14 // 5 "
      ],
      "execution_count": 0,
      "outputs": []
    },
    {
      "metadata": {
        "id": "0Xpr_UKPNAvq",
        "colab_type": "text"
      },
      "cell_type": "markdown",
      "source": [
        "Modulus operator **%** can be used to obtain remaider. Pay attention when negative number is involved."
      ]
    },
    {
      "metadata": {
        "id": "l5UnQWhlNAvq",
        "colab_type": "code",
        "colab": {}
      },
      "cell_type": "code",
      "source": [
        "14 % 5"
      ],
      "execution_count": 0,
      "outputs": []
    },
    {
      "metadata": {
        "id": "r4W0HPUGNAvr",
        "colab_type": "code",
        "colab": {}
      },
      "cell_type": "code",
      "source": [
        "# Hint:  −14 // 5 equal to −3\n",
        "#        (-3) * 5 +  ? = -14\n",
        "\n",
        "-14 % 5 "
      ],
      "execution_count": 0,
      "outputs": []
    },
    {
      "metadata": {
        "id": "564GA2OTNAvs",
        "colab_type": "text"
      },
      "cell_type": "markdown",
      "source": [
        "*Operator precedence* is a rule that affects how an expression is evaluated. As we learned in high school, the multiplication is done first than the addition. e.g. **2 + 3 * 4**. This means multiplication operator has higher precedence than the addition operator.\n",
        "\n",
        "For your reference, a precedence table from the python reference manual is used to indicate the evaluation order in Python.  For a complete precedence table, check the heading \"Python Operators Precedence\" in this [Python tutorial](http://www.tutorialspoint.com/python/python_basic_operators.htm)\n",
        "\n",
        "\n",
        "However, When things get confused, it is far better to use parentheses **()** to explicitly\n",
        "specify the precedence. This makes the program more readable.\n",
        "\n",
        "Here are some examples on operator precedence:"
      ]
    },
    {
      "metadata": {
        "id": "c8xafbHENAvs",
        "colab_type": "code",
        "colab": {}
      },
      "cell_type": "code",
      "source": [
        "2 + 3 * 4"
      ],
      "execution_count": 0,
      "outputs": []
    },
    {
      "metadata": {
        "id": "V-pygm0YNAvt",
        "colab_type": "code",
        "colab": {}
      },
      "cell_type": "code",
      "source": [
        "(2 + 3) * 4"
      ],
      "execution_count": 0,
      "outputs": []
    },
    {
      "metadata": {
        "id": "6k-u4ugtNAvt",
        "colab_type": "code",
        "colab": {}
      },
      "cell_type": "code",
      "source": [
        "2 + 3 ** 2"
      ],
      "execution_count": 0,
      "outputs": []
    },
    {
      "metadata": {
        "id": "MOlAX2ZYNAvu",
        "colab_type": "code",
        "colab": {}
      },
      "cell_type": "code",
      "source": [
        "(2 + 3) ** 2"
      ],
      "execution_count": 0,
      "outputs": []
    },
    {
      "metadata": {
        "id": "XQjd9Y2bNAvv",
        "colab_type": "code",
        "colab": {}
      },
      "cell_type": "code",
      "source": [
        "-(4+3)+2"
      ],
      "execution_count": 0,
      "outputs": []
    },
    {
      "metadata": {
        "id": "V59TDqP9NAvw",
        "colab_type": "text"
      },
      "cell_type": "markdown",
      "source": [
        "Similary as string, variables can be used to store a  number so that it is easy to  manipulate them."
      ]
    },
    {
      "metadata": {
        "id": "JRQnFhEVNAvw",
        "colab_type": "code",
        "colab": {}
      },
      "cell_type": "code",
      "source": [
        "x = 3\n",
        "y = 2\n",
        "x + 2"
      ],
      "execution_count": 0,
      "outputs": []
    },
    {
      "metadata": {
        "id": "T2J8Z-D3NAvx",
        "colab_type": "code",
        "colab": {}
      },
      "cell_type": "code",
      "source": [
        "sum = x + y\n",
        "sum"
      ],
      "execution_count": 0,
      "outputs": []
    },
    {
      "metadata": {
        "id": "PFeJ72FPNAvy",
        "colab_type": "code",
        "colab": {}
      },
      "cell_type": "code",
      "source": [
        "x * y"
      ],
      "execution_count": 0,
      "outputs": []
    },
    {
      "metadata": {
        "id": "b4YqrbbdNAvz",
        "colab_type": "text"
      },
      "cell_type": "markdown",
      "source": [
        "One common expression is to run a math operation on a variable and then assign the result of the operation back to the variable. Therefore, there is a shortcut for such a expression. "
      ]
    },
    {
      "metadata": {
        "id": "Hn94yVNJNAvz",
        "colab_type": "code",
        "colab": {}
      },
      "cell_type": "code",
      "source": [
        "x = 2\n",
        "x = x * 3\n",
        "x"
      ],
      "execution_count": 0,
      "outputs": []
    },
    {
      "metadata": {
        "id": "zyzzyHHzNAv1",
        "colab_type": "text"
      },
      "cell_type": "markdown",
      "source": [
        "This is equivalant to:"
      ]
    },
    {
      "metadata": {
        "id": "xPw6pob_NAv1",
        "colab_type": "code",
        "colab": {}
      },
      "cell_type": "code",
      "source": [
        "x = 2\n",
        "# Note there is no space between '*' and '+'\n",
        "x *= 3\n",
        "x"
      ],
      "execution_count": 0,
      "outputs": []
    },
    {
      "metadata": {
        "id": "ysf-ph4rNAv3",
        "colab_type": "text"
      },
      "cell_type": "markdown",
      "source": [
        "<a id = \"cell_conversion\"></a>"
      ]
    },
    {
      "metadata": {
        "collapsed": true,
        "id": "CqGynGmCNAv3",
        "colab_type": "text"
      },
      "cell_type": "markdown",
      "source": [
        "## 2.3 Data conversion and comparison"
      ]
    },
    {
      "metadata": {
        "id": "pq_rrLt8NAv3",
        "colab_type": "text"
      },
      "cell_type": "markdown",
      "source": [
        "So far, we have seen three types of data: interger, float, and string. With various data type, Python can define the operations possible on them and the storage method for each of them. In the later pracs, we will further introduce more data types, such as tuple, list and dictionary. \n",
        "\n",
        "To obtain the data type of a variable or a value, we can use built-in function **type()**;\n",
        "whereas functions, such as **str()**, **int()**, **float()**, are used to convert data one  type to another. Check the following examples on the usage of these functions:"
      ]
    },
    {
      "metadata": {
        "id": "XWeUXco3NAv4",
        "colab_type": "code",
        "colab": {}
      },
      "cell_type": "code",
      "source": [
        "type('Hello, world!)')"
      ],
      "execution_count": 0,
      "outputs": []
    },
    {
      "metadata": {
        "id": "QYQsqrreNAv5",
        "colab_type": "code",
        "colab": {}
      },
      "cell_type": "code",
      "source": [
        "input_Value = '45.6'\n",
        "type(input_Value)"
      ],
      "execution_count": 0,
      "outputs": []
    },
    {
      "metadata": {
        "id": "k9Pn_DXtNAv6",
        "colab_type": "code",
        "colab": {}
      },
      "cell_type": "code",
      "source": [
        "weight = float(input_Value)\n",
        "weight\n",
        "type(weight)"
      ],
      "execution_count": 0,
      "outputs": []
    },
    {
      "metadata": {
        "id": "05DB2szWNAv7",
        "colab_type": "text"
      },
      "cell_type": "markdown",
      "source": [
        "Note the system will report error message when the conversion function is not compatible with the data."
      ]
    },
    {
      "metadata": {
        "id": "beOicMyGNAv7",
        "colab_type": "code",
        "colab": {}
      },
      "cell_type": "code",
      "source": [
        "input_Value = 'David'\n",
        "weight = float(input_Value)"
      ],
      "execution_count": 0,
      "outputs": []
    },
    {
      "metadata": {
        "id": "UrWnfvCkNAv9",
        "colab_type": "text"
      },
      "cell_type": "markdown",
      "source": [
        "Comparison between two values can help make decision in a program. The result of the comparison is either **True** or **False**. They are the two values of *Boolean* type."
      ]
    },
    {
      "metadata": {
        "id": "1uYiQ_W5NAv9",
        "colab_type": "code",
        "colab": {}
      },
      "cell_type": "code",
      "source": [
        "5 > 10"
      ],
      "execution_count": 0,
      "outputs": []
    },
    {
      "metadata": {
        "id": "6u0uqRyMNAv-",
        "colab_type": "code",
        "colab": {}
      },
      "cell_type": "code",
      "source": [
        "type(5 > 10)"
      ],
      "execution_count": 0,
      "outputs": []
    },
    {
      "metadata": {
        "id": "WvHZGdkLNAv_",
        "colab_type": "code",
        "colab": {}
      },
      "cell_type": "code",
      "source": [
        "# Double equal sign is also used for comparison\n",
        "10.0 == 10"
      ],
      "execution_count": 0,
      "outputs": []
    },
    {
      "metadata": {
        "id": "3WBe-IW2NAwB",
        "colab_type": "text"
      },
      "cell_type": "markdown",
      "source": [
        "Check the following examples on comparison of two strings."
      ]
    },
    {
      "metadata": {
        "id": "bW0Iouh6NAwB",
        "colab_type": "code",
        "colab": {}
      },
      "cell_type": "code",
      "source": [
        "'cat' < 'dog'"
      ],
      "execution_count": 0,
      "outputs": []
    },
    {
      "metadata": {
        "id": "6xTre6IoNAwC",
        "colab_type": "code",
        "colab": {}
      },
      "cell_type": "code",
      "source": [
        "# All uppercases are before low cases. \n",
        "'cat' < 'Dog'"
      ],
      "execution_count": 0,
      "outputs": []
    },
    {
      "metadata": {
        "id": "EUn2KVpmNAwD",
        "colab_type": "code",
        "colab": {}
      },
      "cell_type": "code",
      "source": [
        "'apple' < 'apricot'"
      ],
      "execution_count": 0,
      "outputs": []
    },
    {
      "metadata": {
        "id": "jRdM0_cgNAwF",
        "colab_type": "text"
      },
      "cell_type": "markdown",
      "source": [
        "There are three logical operators, *not*, *and* and *or*, which can  be applied to the boolean values. "
      ]
    },
    {
      "metadata": {
        "id": "LN7cMP60NAwF",
        "colab_type": "code",
        "colab": {}
      },
      "cell_type": "code",
      "source": [
        "# Both condition #1 and condition #2 are True?\n",
        "3 < 4  and 7 < 8"
      ],
      "execution_count": 0,
      "outputs": []
    },
    {
      "metadata": {
        "id": "BYKuDPeRNAwG",
        "colab_type": "code",
        "colab": {}
      },
      "cell_type": "code",
      "source": [
        "# Either condition 1 or condition 2 are True?\n",
        "3 < 4  or 7 > 8"
      ],
      "execution_count": 0,
      "outputs": []
    },
    {
      "metadata": {
        "id": "YIPK7XOtNAwH",
        "colab_type": "code",
        "colab": {}
      },
      "cell_type": "code",
      "source": [
        "# Both conditional #1 and conditional #2 are False?\n",
        "not ((3 > 4) or (7 > 8))"
      ],
      "execution_count": 0,
      "outputs": []
    },
    {
      "metadata": {
        "id": "fWZLzTFFNAwI",
        "colab_type": "text"
      },
      "cell_type": "markdown",
      "source": [
        "<a id = \"cell_input\"></a>"
      ]
    },
    {
      "metadata": {
        "id": "EXWghrlINAwI",
        "colab_type": "text"
      },
      "cell_type": "markdown",
      "source": [
        "## 2. 4. Input and output"
      ]
    },
    {
      "metadata": {
        "id": "TDgIce3zNAwI",
        "colab_type": "text"
      },
      "cell_type": "markdown",
      "source": [
        "All programing languages provide features to interact with user. Python provide *input()* function to get input. It waits for the user to type some input and press return. We can add some information for the user by putting a message inside the function's brackets. It must be a string or a string variable. The text that was typed can be saved in a variable. Here is one example:"
      ]
    },
    {
      "metadata": {
        "id": "6SPs5yg9NAwJ",
        "colab_type": "code",
        "colab": {}
      },
      "cell_type": "code",
      "source": [
        "nInput  = input('Enter you number here:\\n')"
      ],
      "execution_count": 0,
      "outputs": []
    },
    {
      "metadata": {
        "id": "9PHHxOeSNAwK",
        "colab_type": "text"
      },
      "cell_type": "markdown",
      "source": [
        "However, be aware that the input received from the user are treated as a string, even\n",
        "though a user entered a number. The following **print()** function invokes an error message."
      ]
    },
    {
      "metadata": {
        "id": "OTrDlnguNAwK",
        "colab_type": "code",
        "colab": {}
      },
      "cell_type": "code",
      "source": [
        "print(nInput + 3)"
      ],
      "execution_count": 0,
      "outputs": []
    },
    {
      "metadata": {
        "id": "0ZQVf9r_NAwL",
        "colab_type": "text"
      },
      "cell_type": "markdown",
      "source": [
        "The input need to be converted to an integer before the match operation can be performed as follows:"
      ]
    },
    {
      "metadata": {
        "id": "GKrDyLpLNAwL",
        "colab_type": "code",
        "colab": {}
      },
      "cell_type": "code",
      "source": [
        "print(int(nInput) + 3)"
      ],
      "execution_count": 0,
      "outputs": []
    },
    {
      "metadata": {
        "id": "gpVdFNqgNAwM",
        "colab_type": "text"
      },
      "cell_type": "markdown",
      "source": [
        "After user's input are accepted, the messages need to be displayed to the user accordingly. String concatenation is one way to display messages which incorporate variable values. "
      ]
    },
    {
      "metadata": {
        "id": "VN9qULjrNAwM",
        "colab_type": "code",
        "colab": {}
      },
      "cell_type": "code",
      "source": [
        "name = 'David'\n",
        "print('Hello, ' + name)"
      ],
      "execution_count": 0,
      "outputs": []
    },
    {
      "metadata": {
        "id": "hlGutCsPNAwN",
        "colab_type": "text"
      },
      "cell_type": "markdown",
      "source": [
        "Another way of achieving this is using **print()** funciton with *string formatting*. We need to use the *string formatting operator*, the percent(**%**) sign. "
      ]
    },
    {
      "metadata": {
        "id": "LHKy72ehNAwN",
        "colab_type": "code",
        "colab": {}
      },
      "cell_type": "code",
      "source": [
        "name = 'David'\n",
        "print('Hello, %s' % name)"
      ],
      "execution_count": 0,
      "outputs": []
    },
    {
      "metadata": {
        "id": "dX1upKANNAwN",
        "colab_type": "text"
      },
      "cell_type": "markdown",
      "source": [
        "Here is another example with two variables:"
      ]
    },
    {
      "metadata": {
        "id": "6rO17B0sNAwN",
        "colab_type": "code",
        "colab": {}
      },
      "cell_type": "code",
      "source": [
        "name = 'David'\n",
        "age = 23\n",
        "print('%s is %d years old.' % (name, age))"
      ],
      "execution_count": 0,
      "outputs": []
    },
    {
      "metadata": {
        "id": "YKQQg15ANAwO",
        "colab_type": "text"
      },
      "cell_type": "markdown",
      "source": [
        "Notice that the two variables, **name**, **age**, that specify the values are included at the end of the statement, and enclosed with a bracket. \n",
        "\n",
        "With the quotation mark,  **%s** and **%d** are used to specify formating for string and integer respectively. \n",
        "The following table shows a selected set of symbols which can be used along with %. "
      ]
    },
    {
      "metadata": {
        "id": "NpB_ngvLNAwO",
        "colab_type": "text"
      },
      "cell_type": "markdown",
      "source": [
        "<table width=\"304\" border=\"1\">\n",
        "  <tr>\n",
        "    <th width=\"112\" scope=\"col\">Format symbol</th>\n",
        "    <th width=\"176\" scope=\"col\">Conversion</th>\n",
        "  </tr>\n",
        "  <tr>\n",
        "    <td>%s</td>\n",
        "    <td>String</td>\n",
        "  </tr>\n",
        "  <tr>\n",
        "    <td>%d</td>\n",
        "    <td>Signed decimal integer</td>\n",
        "  </tr>\n",
        "  <tr>\n",
        "    <td>%f</td>\n",
        "    <td>Floating point real number</td>\n",
        "  </tr>\n",
        "</table>"
      ]
    },
    {
      "metadata": {
        "id": "Quhoxim6NAwO",
        "colab_type": "text"
      },
      "cell_type": "markdown",
      "source": [
        "There are extra charaters that are used together with above symbols:"
      ]
    },
    {
      "metadata": {
        "id": "dV9opZAzNAwO",
        "colab_type": "text"
      },
      "cell_type": "markdown",
      "source": [
        "<table width=\"400\" border=\"1\">\n",
        "  <tr>\n",
        "    <th width=\"100\" scope=\"col\">Symbol</th>\n",
        "    <th width=\"3000\" scope=\"col\">Functionality</th>\n",
        "  </tr>\n",
        "  <tr>\n",
        "    <td>-</td>\n",
        "    <td>Left justification</td>\n",
        "  </tr>\n",
        "  <tr>\n",
        "    <td>+</td>\n",
        "    <td>Display the sign</td>\n",
        "  </tr>\n",
        "  <tr>\n",
        "    <td>m.n</td>\n",
        "    <td>m is the minimum total width; n is the number of digits to display after the decimal point</td>\n",
        "  </tr>\n",
        "</table>"
      ]
    },
    {
      "metadata": {
        "id": "qKTbsdXBNAwP",
        "colab_type": "text"
      },
      "cell_type": "markdown",
      "source": [
        "Here are  more examples that use above specifiers:"
      ]
    },
    {
      "metadata": {
        "id": "Bbtq5KO_NAwP",
        "colab_type": "code",
        "colab": {}
      },
      "cell_type": "code",
      "source": [
        "# With %f, the format is right justification by default. \n",
        "# As a result, white spaces are added to the left of the number\n",
        "# 10.4 means minimal width 10 with 4 decinal points\n",
        "print('Output a float number: %10.4f' % (3.5))"
      ],
      "execution_count": 0,
      "outputs": []
    },
    {
      "metadata": {
        "id": "3jVYuXKENAwP",
        "colab_type": "code",
        "colab": {}
      },
      "cell_type": "code",
      "source": [
        "# plus sign after % means to show positive sign\n",
        "# Zero after plus sign means using leading zero to fill width of 5\n",
        "print('Output an integer: %+05d' % (23))"
      ],
      "execution_count": 0,
      "outputs": []
    },
    {
      "metadata": {
        "id": "27Fi3vuMNAwQ",
        "colab_type": "text"
      },
      "cell_type": "markdown",
      "source": [
        "### 2.5 Notes on *Python 2*\n",
        "\n",
        "You need to pay attention if you test examples in this prac under *Python* 2.  \n",
        "\n",
        "1. In *Python 3,  * **/** is float division, and  **//** is integer division; while in Python 2, \n",
        "\tboth **/** and **//**\n",
        "\tperform *integer division*.  \n",
        "\tHowever, if you stick to using **float(3)/2** for *float division*, \n",
        "\tand **3/2** for *integer division*, \n",
        "\tyou will have no problem in both version. \n",
        "    \n",
        "2. Instead using function **input()**,  \n",
        "\t**raw_input()** is used in Python 2. \n",
        "\tBoth functions have the same functionality,\n",
        "\ti.e. take what the user typed and passes it back as a string.\n",
        "    \n",
        "3. Although both versions support **print()** function with same format, \n",
        "\tPython 2 also allows  the print statement (e.g. **print \"Hello, World!\"**), \n",
        "\twhich is not valid in Python 3. \n",
        "\tHowever, if you stick to our examples and using **print()** function with parantheses, \n",
        "\tyour programs should works fine in both versions.  "
      ]
    }
  ]
}